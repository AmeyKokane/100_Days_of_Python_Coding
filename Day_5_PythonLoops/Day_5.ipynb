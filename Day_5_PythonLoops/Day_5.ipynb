{
 "cells": [
  {
   "attachments": {},
   "cell_type": "markdown",
   "metadata": {},
   "source": [
    "For Loop:\n",
    "Can be used to loop through the lists"
   ]
  },
  {
   "cell_type": "code",
   "execution_count": 1,
   "metadata": {},
   "outputs": [
    {
     "name": "stdout",
     "output_type": "stream",
     "text": [
      "Apple\n",
      "Peach\n",
      "Pear\n"
     ]
    }
   ],
   "source": [
    "fruits = [\"Apple\", \"Peach\", \"Pear\"]\n",
    "for fruit in fruits:\n",
    "    print(fruit)"
   ]
  },
  {
   "attachments": {},
   "cell_type": "markdown",
   "metadata": {},
   "source": [
    "Exercise 1:\n",
    "Instructions\n",
    "You are going to write a program that calculates the average student height from a List of heights.\n",
    "e.g. student_heights = [180, 124, 165, 173, 189, 169, 146]\n",
    "The average height can be calculated by adding all the heights together and dividing by the total number of heights.\n",
    "e.g.\n",
    "180 + 124 + 165 + 173 + 189 + 169 + 146 = 1146\n",
    "There are a total of 7 heights in student_heights\n",
    "1146 ÷ 7 = 163.71428571428572\n",
    "Average height rounded to the nearest whole number = 164\n",
    "Important You should not use the sum() or len() functions in your answer. You should try to replicate their functionality using what you have learnt about for loops.\n",
    "Example Input\n",
    "156 178 165 171 187\n",
    "In this case, student_heights would be a list that looks like: [156, 178, 165, 171, 187]\n",
    "Example Output\n",
    "171\n",
    "e.g. When you hit run, this is what should happen:\n",
    "\n",
    "Hint\n",
    "Remember to use the round() function to round the average height before you print it."
   ]
  },
  {
   "cell_type": "code",
   "execution_count": null,
   "metadata": {},
   "outputs": [],
   "source": [
    "# 🚨 Don't change the code below 👇\n",
    "student_heights = input(\"Input a list of student heights \").split()\n",
    "num_of_students = 0\n",
    "sum_heights = 0\n",
    "for n in range(0, len(student_heights)):\n",
    "  student_heights[n] = int(student_heights[n])\n",
    "# 🚨 Don't change the code above 👆\n",
    "  \n",
    "  sum_heights += student_heights[n]\n",
    "  num_of_students = n +1 \n",
    "  \n",
    "#Write your code below this row 👇\n",
    "print(round(sum_heights/num_of_students))\n",
    "\n",
    "\n",
    "\n",
    "\n"
   ]
  },
  {
   "cell_type": "code",
   "execution_count": 5,
   "metadata": {},
   "outputs": [
    {
     "name": "stdout",
     "output_type": "stream",
     "text": [
      "110\n"
     ]
    }
   ],
   "source": [
    "##########################################\n",
    "############ Another Solution ############\n",
    "student_heights = input(\"Input a list of student heights \").split()\n",
    "\n",
    "sum_heights = 0\n",
    "for heights in student_heights:\n",
    "    sum_heights += int(heights)\n",
    "\n",
    "num_of_students = 0\n",
    "for students in student_heights:\n",
    "    num_of_students += 1\n",
    "\n",
    "print(round(sum_heights/num_of_students))\n"
   ]
  },
  {
   "attachments": {},
   "cell_type": "markdown",
   "metadata": {},
   "source": [
    "Exercise 2:\n",
    "Instructions\n",
    "You are going to write a program that calculates the highest score from a List of scores.\n",
    "e.g. student_scores = [78, 65, 89, 86, 55, 91, 64, 89]\n",
    "Important you are not allowed to use the max or min functions. The output words must match the example. i.e\n",
    "The highest score in the class is: x\n",
    "Example Input\n",
    "78 65 89 86 55 91 64 89\n",
    "In this case, student_scores would be a list that looks like: [78, 65, 89, 86, 55, 91, 64, 89]\n",
    "Example Output\n",
    "The highest score in the class is: 91\n",
    "e.g. When you hit run, this is what should happen:\n",
    "\n",
    "Hint\n",
    "Think about the logic before writing code. How can you compare numbers against each other to see which one is larger?\n",
    "Test Your Code\n",
    "Check your code is doing what it is supposed to. When you're happy with your code, click submit to check your solution."
   ]
  },
  {
   "cell_type": "code",
   "execution_count": 9,
   "metadata": {},
   "outputs": [
    {
     "name": "stdout",
     "output_type": "stream",
     "text": [
      "[78, 65, 89, 86, 55, 91, 64, 89]\n",
      "The highest score in class is: 91\n"
     ]
    }
   ],
   "source": [
    "# 🚨 Don't change the code below 👇\n",
    "student_scores = input(\"Input a list of student scores \").split()\n",
    "for n in range(0, len(student_scores)):\n",
    "  student_scores[n] = int(student_scores[n])\n",
    "print(student_scores)\n",
    "# 🚨 Don't change the code above 👆\n",
    "\n",
    "#Write your code below this row 👇\n",
    "high_score = 0\n",
    "for scores in student_scores:\n",
    "    score_n = int(scores)\n",
    "    if high_score < score_n:\n",
    "      high_score = score_n\n",
    "    \n",
    "print(f\"The highest score in the class is: {high_score}\")"
   ]
  },
  {
   "attachments": {},
   "cell_type": "markdown",
   "metadata": {},
   "source": [
    "Range Function\n",
    "for number in range(a, b, hops)"
   ]
  },
  {
   "attachments": {},
   "cell_type": "markdown",
   "metadata": {},
   "source": [
    "Exercise 3:\n",
    "Instructions\n",
    "You are going to write a program that calculates the sum of all the even numbers from 1 to 100. Thus, the first even number would be 2 and the last one is 100:\n",
    "i.e. 2 + 4 + 6 + 8 +10 ... + 98 + 100\n",
    "Important, there should only be 1 print statement in your console output. It should just print the final total and not every step of the calculation.\n",
    "Hint\n",
    "There are quite a few ways of solving this problem, but you will need to use the range() function in any of the solutions.\n"
   ]
  },
  {
   "cell_type": "code",
   "execution_count": null,
   "metadata": {},
   "outputs": [],
   "source": [
    "#Write your code below this row 👇\n",
    "sum = 0\n",
    "for n in range (0, 101, 2):\n",
    "    sum += n\n",
    "print(sum)"
   ]
  },
  {
   "attachments": {},
   "cell_type": "markdown",
   "metadata": {},
   "source": [
    "Exercise 6:\n",
    "Instructions\n",
    "You are going to write a program that automatically prints the solution to the FizzBuzz game.\n",
    "Your program should print each number from 1 to 100 in turn.\n",
    "When the number is divisible by 3 then instead of printing the number it should print \"Fizz\".\n",
    "When the number is divisible by 5, then instead of printing the number it should print \"Buzz\".`\n",
    "  And if the number is divisible by both 3 and 5 e.g. 15 then instead of the number it should print \"FizzBuzz\"\n",
    "e.g. it might start off like this:\n",
    "1\n",
    "2\n",
    "Fizz\n",
    "4\n",
    "Buzz\n",
    "Fizz\n",
    "7\n",
    "8\n",
    "Fizz\n",
    "Buzz\n",
    "11\n",
    "Fizz\n",
    "13\n",
    "14\n",
    "FizzBuzz\n",
    ".... etc."
   ]
  },
  {
   "cell_type": "code",
   "execution_count": null,
   "metadata": {},
   "outputs": [],
   "source": [
    "#Write your code below this row 👇\n",
    "\n",
    "for n in range (1, 101):\n",
    "    if n % 3 == 0 and n % 5 ==0:\n",
    "        print(\"FizzBuzz\")\n",
    "    elif n % 5 == 0:\n",
    "        print(\"Buzz\")\n",
    "    elif n % 3 == 0:\n",
    "        print(\"Fizz\")\n",
    "    else:\n",
    "        print(n)"
   ]
  },
  {
   "cell_type": "code",
   "execution_count": null,
   "metadata": {},
   "outputs": [],
   "source": [
    "#Password Generator Project\n",
    "import random\n",
    "letters = ['a', 'b', 'c', 'd', 'e', 'f', 'g', 'h', 'i', 'j', 'k', 'l', 'm', 'n', 'o', 'p', 'q', 'r', 's', 't', 'u', 'v', 'w', 'x', 'y', 'z', 'A', 'B', 'C', 'D', 'E', 'F', 'G', 'H', 'I', 'J', 'K', 'L', 'M', 'N', 'O', 'P', 'Q', 'R', 'S', 'T', 'U', 'V', 'W', 'X', 'Y', 'Z']\n",
    "numbers = ['0', '1', '2', '3', '4', '5', '6', '7', '8', '9']\n",
    "symbols = ['!', '#', '$', '%', '&', '(', ')', '*', '+']\n",
    "\n",
    "print(\"Welcome to the PyPassword Generator!\")\n",
    "nr_letters= int(input(\"How many letters would you like in your password?\\n\")) \n",
    "nr_symbols = int(input(f\"How many symbols would you like?\\n\"))\n",
    "nr_numbers = int(input(f\"How many numbers would you like?\\n\"))\n",
    "\n",
    "#Eazy Level - Order not randomised:\n",
    "#e.g. 4 letter, 2 symbol, 2 number = JduE&!91\n",
    "random_letters = []\n",
    "for n in range(0, nr_letters):\n",
    "  random_letters.append(random.choice(letters))\n",
    "  #letter_str = ''.join(random_letters)\n",
    "  \n",
    "\n",
    "random_symbols = []\n",
    "for n in range(0, nr_symbols):\n",
    "  random_symbols.append(random.choice(symbols))\n",
    "  #symbol_str = ''.join(random_symbols)\n",
    "\n",
    "random_numbers = []\n",
    "for n in range(0, nr_numbers):\n",
    "  random_numbers.append(random.choice(numbers))\n",
    "  #number_str = ''.join(random_numbers)\n",
    "\n",
    "#print(random_letters)\n",
    "#print(letter_str+symbol_str+number_str)\n",
    "#Hard Level - Order of characters randomised:\n",
    "#e.g. 4 letter, 2 symbol, 2 number = g^2jk8&P\n",
    "pw_ordered = []\n",
    "pw_ordered = random_letters+random_symbols+random_numbers \n",
    "random.shuffle(pw_ordered)\n",
    "pw_random = ''.join(pw_ordered)\n",
    "print(pw_random)"
   ]
  }
 ],
 "metadata": {
  "kernelspec": {
   "display_name": "base",
   "language": "python",
   "name": "python3"
  },
  "language_info": {
   "codemirror_mode": {
    "name": "ipython",
    "version": 3
   },
   "file_extension": ".py",
   "mimetype": "text/x-python",
   "name": "python",
   "nbconvert_exporter": "python",
   "pygments_lexer": "ipython3",
   "version": "3.9.12"
  },
  "orig_nbformat": 4,
  "vscode": {
   "interpreter": {
    "hash": "a20b1d8e2a66e440745ea9e5b6797943f948e2f1d306029c620f4517a67c8442"
   }
  }
 },
 "nbformat": 4,
 "nbformat_minor": 2
}
