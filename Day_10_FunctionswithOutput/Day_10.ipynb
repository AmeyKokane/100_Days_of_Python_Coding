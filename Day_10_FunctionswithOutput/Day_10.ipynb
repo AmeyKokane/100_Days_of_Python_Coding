{
 "cells": [
  {
   "attachments": {},
   "cell_type": "markdown",
   "metadata": {},
   "source": [
    "Functions with Outputs:\n",
    "Using return statement in a function allows to save the functions' results into a variable. This will allow the results to be sent to the caller.\n",
    "\n"
   ]
  },
  {
   "cell_type": "code",
   "execution_count": null,
   "metadata": {},
   "outputs": [],
   "source": [
    "# Functions with Outputs\n",
    "\n",
    "def format_name(f_name,l_name):\n",
    "  formatted_f_name = f_name.title()\n",
    "  formatted_l_name = l_name.title()\n",
    "\n",
    "  return f\"{formatted_f_name} {formatted_l_name}\"\n",
    "\n",
    "formatted_string = format_name(\"amey\",\"kokane\")\n",
    "print(formatted_string)"
   ]
  },
  {
   "cell_type": "code",
   "execution_count": 4,
   "metadata": {},
   "outputs": [
    {
     "name": "stdout",
     "output_type": "stream",
     "text": [
      "Invalid input(s).\n"
     ]
    }
   ],
   "source": [
    "# Multiple return values\n",
    "def format_name(f_name,l_name):\n",
    "  if f_name == \"\" or l_name == \"\":\n",
    "    return \"Invalid input(s).\"\n",
    "  formatted_f_name = f_name.title()\n",
    "  formatted_l_name = l_name.title()\n",
    "\n",
    "  return f\"{formatted_f_name} {formatted_l_name}\"\n",
    "\n",
    "print(format_name(input(\"What is your first name? \"),input(\"What is your last name? \")))\n",
    "\n"
   ]
  },
  {
   "attachments": {},
   "cell_type": "markdown",
   "metadata": {},
   "source": [
    "Exercise 10.1\n",
    "Instructions\n",
    "In the starting code, you'll find the solution from the Leap Year challenge. First, convert this function is_leap() so that instead of printing \"Leap year.\" or \"Not leap year.\" it should return True if it is a leap year and return False if it is not a leap year.\n",
    "You are then going to create a function called days_in_month() which will take a year and a month as inputs, e.g.\n",
    "days_in_month(year=2022, month=2)\n",
    "And it will use this information to work out the number of days in the month, then return that as the output, e.g.:\n",
    "28\n",
    "The List month_days contains the number of days in a month from January to December for a non-leap year. A leap year has 29 days in February.\n",
    "Hint\n",
    "Look at the function call at the bottom of the code to see the positional arguments. The order is very important.\n",
    "Feel free to choose your own parameter names.\n",
    "Remember that month_days is a List and Lists in Python start at position 0. So the number of days in January is month_days[0]\n",
    "Be careful with indentation."
   ]
  },
  {
   "cell_type": "code",
   "execution_count": null,
   "metadata": {},
   "outputs": [],
   "source": [
    "# Solution 10.1\n",
    "def is_leap(year):\n",
    "  if year % 4 == 0:\n",
    "    if year % 100 == 0:\n",
    "      if year % 400 == 0:\n",
    "        return True\n",
    "      else:\n",
    "        return False\n",
    "    else:\n",
    "      return True\n",
    "  else:\n",
    "    return False\n",
    "\n",
    "def days_in_month(year, month):\n",
    "  month_days = [31, 28, 31, 30, 31, 30, 31, 31, 30, 31, 30, 31]  \n",
    "  if is_leap(year):\n",
    "      if month == 2:\n",
    "          return month_days[(month -1)] +1\n",
    "      elif month != 2:\n",
    "          return month_days[(month -1)]\n",
    "  else:\n",
    "      return month_days[month -1]\n",
    "  \n",
    "#🚨 Do NOT change any of the code below \n",
    "year = int(input(\"Enter a year: \"))\n",
    "month = int(input(\"Enter a month: \"))\n",
    "days = days_in_month(year, month)\n",
    "print(days)\n",
    "#print(is_leap(year))\n"
   ]
  },
  {
   "cell_type": "code",
   "execution_count": 5,
   "metadata": {},
   "outputs": [
    {
     "name": "stdout",
     "output_type": "stream",
     "text": [
      "None\n"
     ]
    }
   ],
   "source": [
    "def my_func(a):\n",
    "    if a < 40:\n",
    "        return\n",
    "        print(\"Terrible\")\n",
    "    if a < 80:\n",
    "        return \"Pass\"\n",
    "    else:\n",
    "        return \"Great\"\n",
    "print(my_func(25))"
   ]
  },
  {
   "attachments": {},
   "cell_type": "markdown",
   "metadata": {},
   "source": [
    "Docstrings:\n",
    "Docstrings (or documentation strings) provide a convinient way of associating documentation with python modules, functions, classes. \n",
    "It is a string literal that occurs as the first statemetn in module, functions, class or method definition. Such a docstring beomes the __doc__ special attribute of that object.\n",
    "\n",
    "Example:\n",
    "def my_function():\n",
    "    \"\"\" This is a docstring that defines purpose of my_function. \"\"\"\n",
    "    print(\"Hello\")"
   ]
  },
  {
   "attachments": {},
   "cell_type": "markdown",
   "metadata": {},
   "source": [
    "Print vs Return\n",
    "Print will display the content to console.\n",
    "Return statement is how a function gives back a value. This value is often unseen by human user but it can used by the computer in further functions.\n",
    "All functions will return a value and if there is no return statement it will return None. The value that is returned by a function can then be further used as an\n",
    "argument passed to another function, stored as a variable, or just printed for a human user.\n",
    "A function ends the execution of a function call. Any statement after return will be executed."
   ]
  },
  {
   "attachments": {},
   "cell_type": "markdown",
   "metadata": {},
   "source": [
    "Recursion:\n",
    "In python, it is possible for a funciton to call itself. A function that calls itself is said to be recursive, \n",
    "and the technique of employing a recursive function is called recursion.\n"
   ]
  },
  {
   "cell_type": "code",
   "execution_count": null,
   "metadata": {},
   "outputs": [],
   "source": [
    "# Day 10 Project - Python Calculator\n",
    "\n",
    "# Calculator\n",
    "from art import logo\n",
    "from replit import clear\n",
    "print(logo)\n",
    "# Add\n",
    "def add(n1, n2):\n",
    "  return n1 + n2\n",
    "\n",
    "# Subtract\n",
    "def subtract(n1, n2):\n",
    "  return n1 - n2\n",
    "\n",
    "# Multiply\n",
    "def multiply (n1, n2):\n",
    "  return n1 * n2\n",
    "\n",
    "# Divide\n",
    "def divide(n1, n2):\n",
    "  return n1 / n2\n",
    "\n",
    "operations = {\"+\": add, \n",
    "        \"-\": subtract,\n",
    "        \"*\": multiply,\n",
    "        \"/\": divide,       \n",
    "       }\n",
    "\n",
    "def calculator():\n",
    "  num1 = float(input(\"What's the first number?: \"))\n",
    "  for symbol in operations:\n",
    "    print(symbol)\n",
    "  should_continue = True\n",
    "  \n",
    "  while should_continue:\n",
    "    operation_symbol = input(\"Pick an operation from the line above: \")\n",
    "    num2 = float(input(\"What's the next number?: \"))\n",
    "    calculation = operations[operation_symbol]\n",
    "    answer = round(calculation(num1, num2),2)\n",
    "    \n",
    "    print(f\"{num1} {operation_symbol} {num2} = {answer}\")\n",
    "    \n",
    "    if input(f\"Type 'y' to continue calculating with {answer}, or type 'n' to start a new calculation: \") == \"y\":\n",
    "      num1 = answer\n",
    "    else:\n",
    "      should_continue = False\n",
    "      clear()\n",
    "      print(logo)\n",
    "      calculator()\n",
    "   \n",
    "calculator()  "
   ]
  }
 ],
 "metadata": {
  "kernelspec": {
   "display_name": "base",
   "language": "python",
   "name": "python3"
  },
  "language_info": {
   "codemirror_mode": {
    "name": "ipython",
    "version": 3
   },
   "file_extension": ".py",
   "mimetype": "text/x-python",
   "name": "python",
   "nbconvert_exporter": "python",
   "pygments_lexer": "ipython3",
   "version": "3.9.12"
  },
  "orig_nbformat": 4,
  "vscode": {
   "interpreter": {
    "hash": "a20b1d8e2a66e440745ea9e5b6797943f948e2f1d306029c620f4517a67c8442"
   }
  }
 },
 "nbformat": 4,
 "nbformat_minor": 2
}
