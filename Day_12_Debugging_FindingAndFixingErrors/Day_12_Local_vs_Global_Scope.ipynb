{
 "cells": [
  {
   "attachments": {},
   "cell_type": "markdown",
   "metadata": {},
   "source": [
    "SCOPE: scope is defined as accessibility of a function or variable at a given level in python query"
   ]
  },
  {
   "cell_type": "code",
   "execution_count": null,
   "metadata": {},
   "outputs": [],
   "source": [
    "#Number Guessing Game Objectives:\n",
    "\n",
    "# Include an ASCII art logo.\n",
    "# Allow the player to submit a guess for a number between 1 and 100.\n",
    "# Check user's guess against actual answer. Print \"Too high.\" or \"Too low.\" depending on the user's answer. \n",
    "# If they got the answer correct, show the actual answer to the player.\n",
    "# Track the number of turns remaining.\n",
    "# If they run out of turns, provide feedback to the player. \n",
    "# Include two different difficulty levels (e.g., 10 guesses in easy mode, only 5 guesses in hard mode).\n",
    "\n",
    "from replit import clear\n",
    "import random\n",
    "from art import logo\n",
    "numbers = [1,\t2,\t3,\t4,\t5,\t6,\t7,\t8,\t9,\t10,\t11,\t12,\t13,\t14,\t15,\t16,\t17,\t18,\t19,\t20,\t21,\t22,\t23,\t24,\t25,\t26,\t27,\t28,\t29,\t30,\t31,\t32,\t33,\t34,\t35,\t36,\t37,\t38,\t39,\t40,\t41,\t42,\t43,\t44,\t45,\t46,\t47,\t48,\t49,\t50,\t51,\t52,\t53,\t54,\t55,\t56,\t57,\t58,\t59,\t60,\t61,\t62,\t63,\t64,\t65,\t66,\t67,\t68,\t69,\t70,\t71,\t72,\t73,\t74,\t75,\t76,\t77,\t78,\t79,\t80,\t81,\t82,\t83,\t84,\t85,\t86,\t87,\t88,\t89,\t90,\t91,\t92,\t93,\t94,\t95,\t96,\t97,\t98,\t99,\t100]\n",
    "\n",
    "\n",
    "\n",
    "\n",
    "dict = { \"easy\": 11,\n",
    "          \"hard\":6,\n",
    "      }\n",
    "number_to_guess = random.choice(numbers)\n",
    "keep_playing = True\n",
    "clear()\n",
    "print(logo)\n",
    "play_level = input (\"Choose a difficulty. Type 'easy' or 'hard': \").lower()\n",
    "\n",
    "for levels in dict:\n",
    "  number_of_guesses = dict[play_level]\n",
    "#print(number_of_guesses)\n",
    "\n",
    "\n",
    "def compare(guess):\n",
    "  global number_to_guess\n",
    "  global keep_playing\n",
    "  if guess > number_to_guess:\n",
    "    print(\"Too high.\")\n",
    "  elif guess < number_to_guess:\n",
    "    print(\"Too low.\")\n",
    "  else:\n",
    "    print(f\"You got it! The answer was {number_to_guess}.\")\n",
    "    keep_playing = False\n",
    "\n",
    "def input_guess():\n",
    "  global number_of_guesses\n",
    "  global keep_playing\n",
    "  while keep_playing:\n",
    "    \n",
    "    number_of_guesses -=1\n",
    "    \n",
    "    if number_of_guesses == 0:\n",
    "      keep_playing = False\n",
    "      print(\"You have run out of guesses, you lose :(\")\n",
    "    else:\n",
    "      print(f\"You have {number_of_guesses} attempts remaining to guess the number.\")\n",
    "      guessed_number = int(input(\"Make a guess: \"))\n",
    "      compare(guessed_number)\n",
    "    input_guess()\n",
    "\n",
    "input_guess()"
   ]
  }
 ],
 "metadata": {
  "kernelspec": {
   "display_name": "base",
   "language": "python",
   "name": "python3"
  },
  "language_info": {
   "name": "python",
   "version": "3.9.12"
  },
  "orig_nbformat": 4,
  "vscode": {
   "interpreter": {
    "hash": "a20b1d8e2a66e440745ea9e5b6797943f948e2f1d306029c620f4517a67c8442"
   }
  }
 },
 "nbformat": 4,
 "nbformat_minor": 2
}
