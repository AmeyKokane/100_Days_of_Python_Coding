{
 "cells": [
  {
   "attachments": {},
   "cell_type": "markdown",
   "metadata": {},
   "source": [
    "Python Dictionaries\n",
    "\n",
    "Dictionaries in python work like dictionaries irl\n",
    "\n",
    "Dictionaries allow to group together and tag related peices of information.\n",
    "Dictionaries are made of KEYs and VALUEs associated with each of the KEYs. \n",
    "\n"
   ]
  },
  {
   "cell_type": "code",
   "execution_count": 10,
   "metadata": {},
   "outputs": [
    {
     "name": "stdout",
     "output_type": "stream",
     "text": [
      "Bug\n",
      "Moth in the program\n",
      "Function\n",
      "A piece of code that you can easily call over and over again.\n"
     ]
    }
   ],
   "source": [
    "# Dictionary Example\n",
    "\n",
    "# programming_dictionary = {\"Bug\": \" An error in a program that prevents the program from running as expected.\", \"Function\": \"A piece of code that you can easily call over and over again.\"}\n",
    "\n",
    "# Dictionary formatted for better readablity\n",
    "\n",
    "programming_dictionary = {\n",
    "     \"Bug\": \" An error in a program that prevents the program from running as expected.\", \n",
    "     \"Function\": \"A piece of code that you can easily call over and over again.\",\n",
    " }\n",
    "\n",
    "# Retrieving from a dictionary\n",
    "\n",
    "# print(programming_dictionary[\"Bug\"])\n",
    "\n",
    "# Adding new items to dictionary\n",
    "# programming_dictionary[\"Loop\"] = \"The action of doing something over again and again\"\n",
    "# \n",
    "# print(programming_dictionary)\n",
    "\n",
    "# Creating an empty dictionary is similar to creating an empty list\n",
    "# empty_list = []\n",
    "\n",
    "# empty_dictionary = {}\n",
    "\n",
    "# Wipe an existing dictionary\n",
    "#programming_dictionary = {}\n",
    "\n",
    "#print(f\"Items in programming_dictionary are {programming_dictionary}. programming_dictionary has been wiped and is now empty\")\n",
    "\n",
    "# Editing an item in a dictionary\n",
    "programming_dictionary[\"Bug\"] = \"Moth in the program\"\n",
    "#print(programming_dictionary)\n",
    "\n",
    "# Looping through a dictionary\n",
    "\n",
    "for item in programming_dictionary:\n",
    "    print(item)\n",
    "    print(programming_dictionary[item])"
   ]
  },
  {
   "cell_type": "code",
   "execution_count": 14,
   "metadata": {},
   "outputs": [
    {
     "name": "stdout",
     "output_type": "stream",
     "text": [
      "Moth in the program\n",
      "A piece of code that you can easily call over and over again.\n"
     ]
    }
   ],
   "source": [
    "for item in programming_dictionary:\n",
    "    #print(item)\n",
    "    print(programming_dictionary[item])"
   ]
  },
  {
   "attachments": {},
   "cell_type": "markdown",
   "metadata": {},
   "source": [
    "Exercise 9.1\n",
    "\n",
    "Instructions\n",
    "You have access to a database of student_scores in the format of a dictionary. The keys in student_scores are the names of the students and the values are their exam scores.\n",
    "Write a program that converts their scores to grades. By the end of your program, you should have a new dictionary called student_grades that should contain student names for keys and their grades for values. The final version of the student_grades dictionary will be checked.\n",
    "DO NOT modify lines 1-7 to change the existing student_scores dictionary.\n",
    "DO NOT write any print statements.\n",
    "This is the scoring criteria:\n",
    "Scores 91 - 100: Grade = \"Outstanding\"\n",
    "Scores 81 - 90: Grade = \"Exceeds Expectations\"\n",
    "Scores 71 - 80: Grade = \"Acceptable\"\n",
    "Scores 70 or lower: Grade = \"Fail\"\n",
    "Expected Output\n",
    "'{'Harry': 'Exceeds Expectations', 'Ron': 'Acceptable', 'Hermione': 'Outstanding', 'Draco': 'Acceptable', 'Neville': 'Fail'}'\n",
    "Hint\n",
    "Remember that looping through a Dictionary will only give you the keys and not the values.\n",
    "If in doubt as to why your code is not doing what you expected, you can always print out the intermediate values.\n",
    "At the end of your program, the print statement will show the final student_scores dictionary, do not change this."
   ]
  },
  {
   "cell_type": "code",
   "execution_count": 15,
   "metadata": {},
   "outputs": [
    {
     "name": "stdout",
     "output_type": "stream",
     "text": [
      "{'Harry': 'Exceeds Expectations', 'Ron': 'Acceptable', 'Hermione': 'Outstanding', 'Draco': 'Acceptable', 'Neville': 'Fail'}\n"
     ]
    }
   ],
   "source": [
    "# Solution 9.1\n",
    "student_scores = {\n",
    "  \"Harry\": 81,\n",
    "  \"Ron\": 78,\n",
    "  \"Hermione\": 99, \n",
    "  \"Draco\": 74,\n",
    "  \"Neville\": 62,\n",
    "}\n",
    "# 🚨 Don't change the code above 👆\n",
    "\n",
    "#TODO-1: Create an empty dictionary called student_grades.\n",
    "student_grades = {}\n",
    "\n",
    "\n",
    "#TODO-2: Write your code below to add the grades to student_grades.👇\n",
    "for student in student_scores:\n",
    "    score = student_scores[student]\n",
    "    if score > 90:\n",
    "        student_grades[student] = \"Outstanding\"\n",
    "    elif score > 80:\n",
    "       student_grades[student] = \"Exceeds Expectations\"\n",
    "    elif score > 70:\n",
    "        student_grades[student] = \"Acceptable\"\n",
    "    else:\n",
    "        student_grades[student] = \"Fail\"\n",
    "    \n",
    "    \n",
    "\n",
    "# 🚨 Don't change the code below 👇\n",
    "print(student_grades)"
   ]
  },
  {
   "attachments": {},
   "cell_type": "markdown",
   "metadata": {},
   "source": [
    "Nesting\n",
    "\n",
    "Normal_Dictionary = {\n",
    "    Key: Value,\n",
    "    Key2: Value2,\n",
    "}\n",
    "\n",
    "But Dictionaries allow for a List or a Dictionary nest within it.\n",
    "\n",
    "Nested_Dictionary = {\n",
    "    Key = [List]\n",
    "    Key2 = {Dict}\n",
    "}\n",
    "\n",
    "\n"
   ]
  },
  {
   "cell_type": "code",
   "execution_count": 16,
   "metadata": {},
   "outputs": [],
   "source": [
    "# Nesting Example\n",
    "\n",
    "# Normal Dictionary\n",
    "capitals = {\n",
    "    \"France\" : \"Paris\",\n",
    "    \"Germany\": \"Berlin\",\n",
    "}\n",
    "\n",
    "# Nesting a List in a Dictionary\n",
    "\n",
    "database_contents ={\n",
    "    \"CA_HET\": [\"BOE_ACO_RPRT_Monthly_RXHCC\", \"HET_BOE_ACO_Monthly_RX_HCC\", \"NTD2_HET_Member_Months\"],\n",
    "    \"ENTPR_BP_ADS_VIEWS\": [\"IL_ADM\", \"TX_ADM\", \"IL_VISITS\", \"TX_VISITS\"],\n",
    "    \"ENTPRIL_PRD_VIEWS_ALL\": [\"CLM\", \"CLM_LI\", \"PROV_FINCL\", \"MBR\", \"MBR_ADDR\"],\n",
    "}\n",
    "\n",
    "# Nesting dictionary in a dictionary\n",
    "\n",
    "nest_db_dict = {\n",
    "    \"CA_HET\": {\"data_tables\": [\"BOE_ACO_RPRT_Monthly_RXHCC\", \"HET_BOE_ACO_Monthly_RX_HCC\", \"NTD2_HET_Member_Months\"], \"IIQ_Roles\": [\"CA_HET_CONSUMERS\",\"CA_HET_DEVELOPERS\"]},\n",
    "    \"ENTPR_BP_ADS_VIEWS\": {\"data_tables\": [\"IL_ADM\", \"TX_ADM\", \"IL_VISITS\", \"TX_VISITS\"], \"IIQ_Roles\": [\"ACTUARIAL_ANALYTICS\", \"ACTUARIAL_CATS_DEVELOPER\", \"AIM_CONSUMER\"]},\n",
    "    \"ENTPRIL_PRD_VIEWS_ALL\": {\"data_tables\": [\"CLM\", \"CLM_LI\", \"PROV_FINCL\", \"MBR\", \"MBR_ADDR\"], \"IIQ_Roles\": [\"APP_DBA_ACCESS\", \"CRU_ANALYTICS\", \"EDW_ETL_FTE\"]},\n",
    "}\n",
    "\n",
    "# Nesting a Dictionary in a List\n",
    "\n",
    "nest_db_dict = [\n",
    "    {\n",
    "        \"database_name\":\"CA_HET\", \n",
    "        \"data_tables\": [\"BOE_ACO_RPRT_Monthly_RXHCC\", \"HET_BOE_ACO_Monthly_RX_HCC\", \"NTD2_HET_Member_Months\"], \n",
    "        \"IIQ_Roles\": [\"CA_HET_CONSUMERS\",\"CA_HET_DEVELOPERS\"]\n",
    "    },\n",
    "    {\n",
    "        \"database_name\":\"ENTPR_BP_ADS_VIEWS\", \n",
    "        \"data_tables\": [\"IL_ADM\", \"TX_ADM\", \"IL_VISITS\", \"TX_VISITS\"], \n",
    "        \"IIQ_Roles\": [\"ACTUARIAL_ANALYTICS\", \"ACTUARIAL_CATS_DEVELOPER\", \"AIM_CONSUMER\"]\n",
    "    },\n",
    "    {\n",
    "        \"database_name\":\"ENTPRIL_PRD_VIEWS_ALL\", \n",
    "        \"data_tables\": [\"CLM\", \"CLM_LI\", \"PROV_FINCL\", \"MBR\", \"MBR_ADDR\"], \n",
    "        \"IIQ_Roles\": [\"APP_DBA_ACCESS\", \"CRU_ANALYTICS\", \"EDW_ETL_FTE\"]\n",
    "    },\n",
    "]"
   ]
  },
  {
   "attachments": {},
   "cell_type": "markdown",
   "metadata": {},
   "source": [
    "Exercise 9.2\n",
    "Instructions\n",
    "You are going to write a program that adds to a travel_log. You can see a travel_log which is a List that contains 2 Dictionaries.\n",
    "Write a function that will work with the following line of code on line 21 to add the entry for Russia to the travel_log.\n",
    "add_new_country(\"Russia\", 2, [\"Moscow\", \"Saint Petersburg\"])\n",
    "You've visited Russia 2 times.\n",
    "You've been to Moscow and Saint Petersburg.\n",
    "DO NOT modify the travel_log directly. You need to create a function that modifies it.\n",
    "Hint\n",
    "Look at the function call above to see what the name of the function should be.\n",
    "The inputs for the function are positional arguments. The order is very important.\n",
    "Feel free to choose your own parameter names."
   ]
  },
  {
   "cell_type": "code",
   "execution_count": null,
   "metadata": {},
   "outputs": [],
   "source": [
    "#Solution 9.2\n",
    "travel_log = [\n",
    "{\n",
    "  \"country\": \"France\",\n",
    "  \"visits\": 12,\n",
    "  \"cities\": [\"Paris\", \"Lille\", \"Dijon\"]\n",
    "},\n",
    "{\n",
    "  \"country\": \"Germany\",\n",
    "  \"visits\": 5,\n",
    "  \"cities\": [\"Berlin\", \"Hamburg\", \"Stuttgart\"]\n",
    "},\n",
    "]\n",
    "#🚨 Do NOT change the code above\n",
    "\n",
    "#TODO: Write the function that will allow new countries\n",
    "#to be added to the travel_log. 👇\n",
    "\n",
    "def add_new_country (CountryName, Num_of_Visits, CitiesVisited):\n",
    "    new_country = {}\n",
    "    new_country['country'] = CountryName\n",
    "    new_country['visits'] = Num_of_Visits\n",
    "    new_country['cities'] = CitiesVisited \n",
    "    travel_log.append(new_country)\n",
    "\n",
    "\n",
    "\n",
    "#🚨 Do not change the code below\n",
    "add_new_country(\"Russia\", 2, [\"Moscow\", \"Saint Petersburg\"])\n",
    "print(travel_log)\n"
   ]
  },
  {
   "attachments": {},
   "cell_type": "markdown",
   "metadata": {},
   "source": [
    "Day 9 Project: Secret Auction Program "
   ]
  },
  {
   "cell_type": "code",
   "execution_count": null,
   "metadata": {},
   "outputs": [],
   "source": [
    "from replit import clear\n",
    "#HINT: You can call clear() to clear the output in the console.\n",
    "from art import logo\n",
    "print(logo)\n",
    "print(\"Welcome to Silent Auction program.\")\n",
    "\n",
    "auction = {}\n",
    "\n",
    "def new_entry (a_name, a_amount):\n",
    "  auction[a_name] = a_amount\n",
    "\n",
    "\n",
    "\n",
    "auction_on = True\n",
    "while auction_on:\n",
    "  name = input(\"What is your name?:\")\n",
    "  amount = int(input(\"What's your bid?: $\"))\n",
    "  new_entry(a_name = name, a_amount = amount)\n",
    "  auction_status = input(\"Are there any other bidders? Type 'yes' or 'no'.:\")\n",
    "  if auction_status == 'yes':\n",
    "    clear()\n",
    "  else:\n",
    "    auction_on = False\n",
    "    winner = max(auction, key = auction.get)\n",
    "    highest_bid = auction[winner]\n",
    "    print(f\"Winner of the auction is {winner} with bid of${highest_bid}\")"
   ]
  }
 ],
 "metadata": {
  "kernelspec": {
   "display_name": "base",
   "language": "python",
   "name": "python3"
  },
  "language_info": {
   "codemirror_mode": {
    "name": "ipython",
    "version": 3
   },
   "file_extension": ".py",
   "mimetype": "text/x-python",
   "name": "python",
   "nbconvert_exporter": "python",
   "pygments_lexer": "ipython3",
   "version": "3.9.12"
  },
  "orig_nbformat": 4,
  "vscode": {
   "interpreter": {
    "hash": "a20b1d8e2a66e440745ea9e5b6797943f948e2f1d306029c620f4517a67c8442"
   }
  }
 },
 "nbformat": 4,
 "nbformat_minor": 2
}
