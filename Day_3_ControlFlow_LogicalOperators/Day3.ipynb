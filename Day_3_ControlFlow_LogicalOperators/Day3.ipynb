{
 "cells": [
  {
   "cell_type": "code",
   "execution_count": null,
   "metadata": {},
   "outputs": [],
   "source": []
  }
 ],
 "metadata": {
  "kernelspec": {
   "display_name": "base",
   "language": "python",
   "name": "python3"
  },
  "language_info": {
   "name": "python",
   "version": "3.9.12 (main, Apr  5 2022, 01:53:17) \n[Clang 12.0.0 ]"
  },
  "orig_nbformat": 4,
  "vscode": {
   "interpreter": {
    "hash": "a20b1d8e2a66e440745ea9e5b6797943f948e2f1d306029c620f4517a67c8442"
   }
  }
 },
 "nbformat": 4,
 "nbformat_minor": 2
}
