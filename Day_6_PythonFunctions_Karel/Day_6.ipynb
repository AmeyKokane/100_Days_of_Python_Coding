{
 "cells": [
  {
   "cell_type": "code",
   "execution_count": null,
   "metadata": {},
   "outputs": [],
   "source": [
    "#Reeborg's World - Hurdle 3\n",
    "\n",
    "def turn_right():\n",
    "    turn_left()\n",
    "    turn_left()\n",
    "    turn_left()\n",
    "\n",
    "def move_ahead():\n",
    "    move()\n",
    "    \n",
    "def hurdle():\n",
    "    turn_left()\n",
    "    move()\n",
    "    turn_right()\n",
    "    move()\n",
    "    turn_right()\n",
    "    move()\n",
    "    turn_left()\n",
    "\n",
    "while not at_goal():\n",
    "    if not wall_in_front():\n",
    "        move_ahead()\n",
    "    elif not front_is_clear():\n",
    "        hurdle()"
   ]
  },
  {
   "cell_type": "code",
   "execution_count": null,
   "metadata": {},
   "outputs": [],
   "source": [
    "#hurdle 4\n",
    "\n",
    "def turn_right():\n",
    "    turn_left()\n",
    "    turn_left()\n",
    "    turn_left()\n",
    "\n",
    "def move_ahead():\n",
    "    move()\n",
    "    \n",
    "def hurdle():\n",
    "    turn_left()\n",
    "   \n",
    "\n",
    "while not at_goal():\n",
    "    if right_is_clear():\n",
    "        turn_right()\n",
    "        move_ahead()\n",
    "    elif not wall_in_front():\n",
    "        move_ahead()\n",
    "    elif right_is_clear() and not wall_in_front():\n",
    "        turn_right() \n",
    "        move_ahead()\n",
    "    elif not front_is_clear():\n",
    "        hurdle()"
   ]
  },
  {
   "cell_type": "code",
   "execution_count": null,
   "metadata": {},
   "outputs": [],
   "source": [
    "#Step 3\n",
    "\n",
    "import random\n",
    "word_list = [\"aardvark\", \"baboon\", \"camel\"]\n",
    "chosen_word = random.choice(word_list)\n",
    "word_length = len(chosen_word)\n",
    "\n",
    "#Testing code\n",
    "print(f'Pssst, the solution is {chosen_word}.')\n",
    "\n",
    "#Create blanks\n",
    "display = []\n",
    "for _ in range(word_length):\n",
    "    display += \"_\"\n",
    "\n",
    "#TODO-1: - Use a while loop to let the user guess again. The loop should only stop once the user has guessed all the letters in the chosen_word and 'display' has no more blanks (\"_\"). Then you can tell the user they've won.\n",
    "while \"_\" in display:\n",
    "  guess = input(\"Guess a letter: \").lower()\n",
    "\n",
    "#Check guessed letter\n",
    "  for position in range(word_length):\n",
    "    letter = chosen_word[position]\n",
    "    print(f\"Current position: {position}\\n Current letter: {letter}\\n Guessed letter: {guess}\")\n",
    "    if letter == guess:\n",
    "        display[position] = letter\n",
    "\n",
    "print(display)\n",
    "print(\"You win!\")"
   ]
  },
  {
   "cell_type": "code",
   "execution_count": null,
   "metadata": {},
   "outputs": [],
   "source": []
  }
 ],
 "metadata": {
  "kernelspec": {
   "display_name": "base",
   "language": "python",
   "name": "python3"
  },
  "language_info": {
   "name": "python",
   "version": "3.9.12"
  },
  "orig_nbformat": 4,
  "vscode": {
   "interpreter": {
    "hash": "a20b1d8e2a66e440745ea9e5b6797943f948e2f1d306029c620f4517a67c8442"
   }
  }
 },
 "nbformat": 4,
 "nbformat_minor": 2
}
