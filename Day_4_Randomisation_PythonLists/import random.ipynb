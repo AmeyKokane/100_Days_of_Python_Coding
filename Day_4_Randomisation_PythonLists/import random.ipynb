import random

random_integer = random.randint(10,20)
