{
 "cells": [
  {
   "attachments": {},
   "cell_type": "markdown",
   "metadata": {},
   "source": [
    "# Randomization\n",
    "Random Module\n",
    "- \n"
   ]
  },
  {
   "cell_type": "code",
   "execution_count": 18,
   "metadata": {},
   "outputs": [
    {
     "name": "stdout",
     "output_type": "stream",
     "text": [
      "6\n"
     ]
    }
   ],
   "source": [
    "import random\n",
    "\n",
    "random_number = random.randint(1,6)\n",
    "print(random_number)"
   ]
  },
  {
   "attachments": {},
   "cell_type": "markdown",
   "metadata": {},
   "source": [
    "Exercise 1 - Heads or Tails\n",
    "\n",
    "Instructions\n",
    "You are going to write a virtual coin toss program. It will randomly tell the user \"Heads\" or \"Tails\".\n",
    "Important, the first letter should be capitalised and spelt exactly like in the example e.g. Heads, not heads.\n",
    "There are many ways of doing this. But to practice what we learnt in the last lesson, you should generate a random number, either 0 or 1. Then use that number to print out Heads or Tails.\n",
    "e.g. 1 means Heads 0 means Tails\n",
    "Example Output\n",
    "Heads\n",
    "or\n",
    "Tails\n",
    "When you're happy with your code, click submit.\n",
    "Testing Your Code\n",
    "Check your code is doing what it is supposed to. When you're happy with your code, click submit to check your solution. Your program may look like it is failing the tests when it isn't. We're using the random functionality in this exercise, so the tests will match different outcomes. "
   ]
  },
  {
   "cell_type": "code",
   "execution_count": null,
   "metadata": {},
   "outputs": [],
   "source": [
    "#Exercise 1 Solution\n",
    "\n",
    "#Remember to use the random module\n",
    "#Hint: Remember to import the random module here at the top of the file. \n",
    "import random\t \n",
    "#Write the rest of your code below this line 👇\n",
    "\n",
    "random_int = random.randint(0,1)\n",
    "\n",
    "if random_int == 1:\n",
    "    print(\"Heads\")\n",
    "else:\n",
    "    print(\"Tails\")"
   ]
  },
  {
   "attachments": {},
   "cell_type": "markdown",
   "metadata": {},
   "source": [
    "Exercise 2 - Banker Roulette\n",
    "\n",
    "Instructions:\n",
    "You are going to write a program that will select a random name from a list of names. The person selected will have to pay for everybody's food bill.\n",
    "Important: You are not allowed to use the choice() function.\n",
    "\n",
    "Line 8 splits the string names_string into individual names and puts them inside a List called names. For this to work, you must enter all the names as names followed by comma then space. e.g. name, name, name\n",
    "\n",
    "Example Input\n",
    "Angela, Ben, Jenny, Michael, Chloe\n",
    "\n",
    "Note: notice that there is a space between the comma and the next name.\n",
    "\n",
    "Example Output\n",
    "Michael is going to buy the meal today!\n",
    "\n",
    "Hint\n",
    "You might need the help of the len() function.\n",
    "https://stackoverflow.com/questions/1712227/how-do-i-get-the-number-of-elements-in-a-list\n",
    "Remember that Lists start at index 0!"
   ]
  },
  {
   "cell_type": "code",
   "execution_count": null,
   "metadata": {},
   "outputs": [],
   "source": [
    "#Exercise 2 Solution\n",
    "\n",
    "# Import the random module here\n",
    "import random\n",
    "# Split string method\n",
    "names_string = input(\"Give me everybody's names, separated by a comma. \")\n",
    "names = names_string.split(\", \")\n",
    "# 🚨 Don't change the code above 👆\n",
    "\n",
    "#Write your code below this line 👇\n",
    "num_persons = len(names)\n",
    "random_num_gen = random.randint(0,num_persons)\n",
    "random_pick = names[(random_num_gen)]\n",
    "print(f\"{random_pick} is going to buy the meal today!\")"
   ]
  },
  {
   "attachments": {},
   "cell_type": "markdown",
   "metadata": {},
   "source": [
    "# Lists\n",
    "allows to store multiple items in a variable in an order\n",
    "[] allows for list to be created as well as to extract an item from a list\n",
    "first item of a list always start at position 0\n",
    ".append adds an item to the list at the tail of the list\n",
    ".extend adds multiple items (or a list) to original list at the tail of the list\n",
    "\n"
   ]
  },
  {
   "cell_type": "code",
   "execution_count": 33,
   "metadata": {},
   "outputs": [],
   "source": [
    "states_of_america = [   \"Delaware\",\t\"Pennsylvania\",\t\"NewJersey\",\t\"Georgia\",\t\"Connecticut\",\t\"Massachusetts\",\t\"Maryland\",\t\"SouthCarolina\",\t\"NewHampshire\",\t\"Virginia\",\t\"NewYork\",\t\n",
    "                        \"NorthCarolina\",\t\"RhodeIsland\",\t\"Vermont\",\t\"Kentucky\",\t\"Tennessee\",\t\"Ohio\",\t\"Louisiana\",\t\"Indiana\",\t\"Mississippi\",\t\"Illinois\",\t\"Alabama\",\t\"Maine\",\t\n",
    "                        \"Missouri\",\t\"Arkansas\",\t\"Michigan\",\t\"Florida\",\t\"Texas\",\t\"Iowa\",\t\"Wisconsin\",\t\"California\",\t\"Minnesota\",\t\"Oregon\",\t\"Kansas\",\t\"WestVirginia\",\t\"Nevada\",\t\n",
    "                        \"Nebraska\",\t\"Colorado\",\t\"NorthDakota\",\t\"SouthDakota\",\t\"Montana\",\t\"Washington\",\t\"Idaho\",\t\"Wyoming\",\t\"Utah\",\t\"Oklahoma\",\t\"NewMexico\",\t\"Arizona\",\t\"Alaska\",\t\n",
    "                        \"Hawaii\"]"
   ]
  },
  {
   "cell_type": "code",
   "execution_count": 34,
   "metadata": {},
   "outputs": [
    {
     "name": "stdout",
     "output_type": "stream",
     "text": [
      "50\n"
     ]
    }
   ],
   "source": [
    "#states_of_america[1] = \"Pencilvania\"\n",
    "\n",
    "#states_of_america.append(\"Puerto Rico\")\n",
    "#states_of_america.extend([\"Ontario\",\"Quebec\"]) #Invading Canada :O\n",
    "print(len(states_of_america))\n",
    "\n"
   ]
  },
  {
   "cell_type": "code",
   "execution_count": 36,
   "metadata": {},
   "outputs": [],
   "source": [
    "position = input(\"Where do you want to put the treasure?\")"
   ]
  },
  {
   "cell_type": "code",
   "execution_count": 39,
   "metadata": {},
   "outputs": [
    {
     "name": "stdout",
     "output_type": "stream",
     "text": [
      "['2', '3']\n"
     ]
    }
   ],
   "source": [
    "position_list = list(position)\n",
    "print(position_list)"
   ]
  },
  {
   "attachments": {},
   "cell_type": "markdown",
   "metadata": {},
   "source": [
    "Exercise 3 - Treasure Map\n",
    "\n",
    "Instructions\n",
    "You are going to write a program that will mark a spot with an X.\n",
    "In the starting code, you will find a variable called map.\n",
    "This map contains a nested list. When map is printed this is what the nested list looks like:\n",
    "[['⬜️', '⬜️', '⬜️'],['⬜️', '⬜️', '⬜️'],['⬜️', '⬜️', '⬜️']]\n",
    "This is a bit hard to work with. So on lines 6 and 23, we've used this line of code print(f\"{row1}\\n{row2}\\n{row3}\" to format the 3 lists to be printed as a 3 by 3 square, each on a new line. \n",
    "['⬜️', '⬜️', '⬜️']\n",
    "['⬜️', '⬜️', '⬜️']\n",
    "['⬜️', '⬜️', '⬜️']\n",
    "Now it looks a bit more like the coordinates of a real map:\n",
    "\n",
    "Your job is to write a program that allows you to mark a square on the map using a two-digit system. \n",
    "The first digit in the input will specify the column (the position on the horizontal axis).\n",
    "The second digit in the input will specify the row number (the position on the vertical axis). \n",
    "So an input of 23 should place an X at the position shown below:\n",
    "\n",
    "First, your program must take the user input and convert it to a usable format.\n",
    "Next, you need to use that input to update your nested list with an \"x\". Remember that your nested list map actually looks like this: [['⬜️', '⬜️', '⬜️'],['⬜️', '⬜️', '⬜️'],['⬜️', '⬜️', '⬜️']].\n",
    "Example Input 1\n",
    "column 2, row 3 would be entered as:\n",
    "23\n",
    "Example Output 1\n",
    "['⬜️', '⬜️', '⬜️']\n",
    "['⬜️', '⬜️', '⬜️']\n",
    "['⬜️', 'X', '⬜️']\n",
    "Example Input 2\n",
    "column 3, row 1 would be entered as:\n",
    "31\n",
    "Example Output 2\n",
    "['⬜️', '⬜️', 'X']\n",
    "['⬜️', '⬜️', '⬜️']\n",
    "['⬜️', '⬜️', '⬜️']\n",
    "e.g. When you hit run, this is what should happen:\n",
    "\n",
    "Hint\n",
    "Remember that Lists start at index 0!\n",
    "map is just a variable that contains a nested list. It's not related to the map function in Python.\n",
    "Remember that nested lists are accessed from out to in. So if list=[[A,B,C],[E,F,G]] then E = list[1][0]\n",
    "Check that you haven't accidentally added extra spaces and the X is a capital X with a single quote around it.\n",
    "Correctly formatted:\n",
    "['⬜️', '⬜️', '⬜️']\n",
    "['⬜️', '⬜️', '⬜️']\n",
    "['⬜️', 'X', '⬜️']\n",
    "vs. \n",
    "Incorrectly formatted (missing a space before 'X and extra space after the X and extra space before the comma):\n",
    "['⬜️', '⬜️', '⬜️']\n",
    "['⬜️', '⬜️', '⬜️']\n",
    "['⬜️','X ' , '⬜️']"
   ]
  },
  {
   "cell_type": "code",
   "execution_count": null,
   "metadata": {},
   "outputs": [],
   "source": [
    "# Exercise 3 Solution\n",
    "# 🚨 Don't change the code below 👇\n",
    "row1 = [\"⬜️\",\"️⬜️\",\"️⬜️\"]\n",
    "row2 = [\"⬜️\",\"⬜️\",\"️⬜️\"]\n",
    "row3 = [\"⬜️️\",\"⬜️️\",\"⬜️️\"]\n",
    "map = [row1, row2, row3]\n",
    "print(f\"{row1}\\n{row2}\\n{row3}\")\n",
    "position = input(\"Where do you want to put the treasure? \")\n",
    "# 🚨 Don't change the code above 👆\n",
    "\n",
    "#Write your code below this row 👇\n",
    "#h = int(position[0])\n",
    "#v = int(position[1])\n",
    "position_list = list(position)\n",
    "(map  [int(position_list[1])-1] [int(position_list[0]) -1]) = 'X'\n",
    "\n",
    "\n",
    "#Write your code above this row 👆\n",
    "\n",
    "# 🚨 Don't change the code below 👇\n",
    "print(f\"{row1}\\n{row2}\\n{row3}\")\n"
   ]
  },
  {
   "attachments": {},
   "cell_type": "markdown",
   "metadata": {},
   "source": [
    "Day 4 Project: Rock, Paper & Scissors.\n"
   ]
  },
  {
   "cell_type": "code",
   "execution_count": 40,
   "metadata": {},
   "outputs": [
    {
     "name": "stdout",
     "output_type": "stream",
     "text": [
      "You played: \n",
      "    _______\n",
      "---'   ____)____\n",
      "          ______)\n",
      "       __________)\n",
      "      (____)\n",
      "---.__(___)\n",
      "\n",
      "Computer played \n",
      "    _______\n",
      "---'   ____)\n",
      "      (_____)\n",
      "      (_____)\n",
      "      (____)\n",
      "---.__(___)\n",
      "\n",
      "Computer won. ☹️\n"
     ]
    }
   ],
   "source": [
    "# My Solution:\n",
    "import random\n",
    "\n",
    "rock = '''\n",
    "    _______\n",
    "---'   ____)\n",
    "      (_____)\n",
    "      (_____)\n",
    "      (____)\n",
    "---.__(___)\n",
    "'''\n",
    "\n",
    "paper = '''\n",
    "    _______\n",
    "---'   ____)____\n",
    "          ______)\n",
    "          _______)\n",
    "         _______)\n",
    "---.__________)\n",
    "'''\n",
    "\n",
    "scissors = '''\n",
    "    _______\n",
    "---'   ____)____\n",
    "          ______)\n",
    "       __________)\n",
    "      (____)\n",
    "---.__(___)\n",
    "'''\n",
    "\n",
    "#Write your code below this line 👇\n",
    "images = [rock, paper, scissors]\n",
    "\n",
    "user = int(input(\"What do you choose? Type 0 for Rock, 1 for Paper or 2 for Scissors.\\n\"))\n",
    "print(f\"You played {images[user]}\")\n",
    "\n",
    "computer = random.randint(0,2)\n",
    "print(f\"Computer played {images[computer]}\")\n",
    "\n",
    "if user > 2 and computer < 0:\n",
    "  print(\"Wrong Choice. You lost ☹️\")\n",
    "\n",
    "elif user == 0 and computer == 0:\n",
    "  print(\"Its a draw. 😐\")\n",
    "\n",
    "elif user == 0 and computer == 1:\n",
    "  print(\"Computer won. ☹️\")\n",
    "\n",
    "elif user == 0 and computer == 2:\n",
    "  print(\"You won! 😃\")\n",
    "elif user == 1 and computer == 0:\n",
    "  print(\"You won! 😃\")\n",
    "elif user == 1 and computer == 1:\n",
    "  print(\"Its a draw. 😐\")\n",
    "\n",
    "elif user == 1 and computer == 2:\n",
    "  print(\"Computer won. ☹️\")\n",
    "\n",
    "elif user == 2 and computer == 0:\n",
    "  print(\"Computer won. ☹️\")\n",
    "\n",
    "elif user == 2 and computer == 1:\n",
    "  print(\"You won! 😃\")\n",
    "\n",
    "elif user == 2 and computer == 2:\n",
    "  print(\"Its a draw. 😐\")\n"
   ]
  },
  {
   "cell_type": "code",
   "execution_count": null,
   "metadata": {},
   "outputs": [],
   "source": [
    "# Solution Provided:\n",
    "import random\n",
    "\n",
    "rock = '''\n",
    "    _______\n",
    "---'   ____)\n",
    "      (_____)\n",
    "      (_____)\n",
    "      (____)\n",
    "---.__(___)\n",
    "'''\n",
    "\n",
    "paper = '''\n",
    "    _______\n",
    "---'   ____)____\n",
    "          ______)\n",
    "          _______)\n",
    "         _______)\n",
    "---.__________)\n",
    "'''\n",
    "\n",
    "scissors = '''\n",
    "    _______\n",
    "---'   ____)____\n",
    "          ______)\n",
    "       __________)\n",
    "      (____)\n",
    "---.__(___)\n",
    "'''\n",
    "\n",
    "game_images = [rock, paper, scissors]\n",
    "\n",
    "user_choice = int(input(\"What do you choose? Type 0 for Rock, 1 for Paper or 2 for Scissors.\\n\"))\n",
    "print(game_images[user_choice])\n",
    "\n",
    "computer_choice = random.randint(0, 2)\n",
    "print(\"Computer chose:\")\n",
    "print(game_images[computer_choice])\n",
    "\n",
    "if user_choice >= 3 or user_choice < 0: \n",
    "  print(\"You typed an invalid number, you lose!\") \n",
    "elif user_choice == 0 and computer_choice == 2:\n",
    "  print(\"You win!\")\n",
    "elif computer_choice == 0 and user_choice == 2:\n",
    "  print(\"You lose\")\n",
    "elif computer_choice > user_choice:\n",
    "  print(\"You lose\")\n",
    "elif user_choice > computer_choice:\n",
    "  print(\"You win!\")\n",
    "elif computer_choice == user_choice:\n",
    "  print(\"It's a draw\")\n",
    "\n",
    "####### Debugging challenge: #########\n",
    "#Try running this code and type 5.\n",
    "#It will give you an IndexError and point to line 32 as the issue.\n",
    "#But on line 38 we are trying to prevent a crash by detecting\n",
    "#any numbers great than or equal to 3 or less than 0.\n",
    "#So what's going on?\n",
    "#Can you debug the code and fix it?\n",
    "#Solution: https://repl.it/@appbrewery/rock-paper-scissors-debugged-end"
   ]
  },
  {
   "cell_type": "markdown",
   "metadata": {},
   "source": []
  }
 ],
 "metadata": {
  "kernelspec": {
   "display_name": "base",
   "language": "python",
   "name": "python3"
  },
  "language_info": {
   "codemirror_mode": {
    "name": "ipython",
    "version": 3
   },
   "file_extension": ".py",
   "mimetype": "text/x-python",
   "name": "python",
   "nbconvert_exporter": "python",
   "pygments_lexer": "ipython3",
   "version": "3.9.12"
  },
  "orig_nbformat": 4,
  "vscode": {
   "interpreter": {
    "hash": "a20b1d8e2a66e440745ea9e5b6797943f948e2f1d306029c620f4517a67c8442"
   }
  }
 },
 "nbformat": 4,
 "nbformat_minor": 2
}
